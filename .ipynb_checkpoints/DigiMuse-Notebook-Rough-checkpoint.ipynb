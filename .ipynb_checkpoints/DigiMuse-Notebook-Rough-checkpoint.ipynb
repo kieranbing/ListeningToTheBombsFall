{
 "cells": [
  {
   "cell_type": "markdown",
   "metadata": {},
   "source": [
    "# Data Visulization With Soundscapes\n",
    "## Introduction \n",
    "\n",
    "## Data \n",
    "For this project I will be using the Theater History of Operations Reports (THOR) dataset of aeriel bombing operations during World War I, World War II, the Korean War, and the Vietnam War undertaken by the US and other Allied nations. The dataset is available on data.world and can be accessed [here](https://data.world/datamil/world-war-ii-thor-data).\n",
    "\n",
    "I will be using and abridged version of the dataset which I recived from [this tutorial](https://programminghistorian.org/en/lessons/visualizing-with-bokeh#the-wwii-thor-dataset) courtesy of The Programming Historian. Here is a link to the CSV file of the abridged dataset: [thor_wwii.csv](https://raw.githubusercontent.com/programminghistorian/ph-submissions/gh-pages/assets/visualizing-with-bokeh/thor_wwii.csv)\n",
    "\n",
    "## Visualizing The Data\n",
    "\n",
    "First I need to visualize the dataset so that I can get a better idea of what it looks like. (duh) \n",
    "\n",
    "I visualised it first by bombs dropped every day, as idealy I would like my soundscape to follow this scale, with each day representing a second of time.\n",
    "\n",
    "That might make for a very long listening time, so I also visualized the data as weekly and biweekly to see how those distributions looked. \n",
    "\n",
    "### Bombings Over Time - days"
   ]
  },
  {
   "cell_type": "code",
   "execution_count": null,
   "metadata": {
    "scrolled": true
   },
   "outputs": [],
   "source": [
    "import pandas as pd\n",
    "from bokeh.plotting import figure, output_notebook, show\n",
    "from bokeh.models import ColumnDataSource\n",
    "from bokeh.palettes import Spectral3\n",
    "output_notebook()\n",
    "\n",
    "df = pd.read_csv('data/thor_wwii.csv')\n",
    "\n",
    "#make sure MSNDATE is a datetime format\n",
    "df['MSNDATE'] = pd.to_datetime(df['MSNDATE'], format='%m/%d/%Y')\n",
    "\n",
    "bombs=['TOTAL_TONS', 'TONS_IC', 'TONS_FRAG']\n",
    "\n",
    "grouped = df.groupby('MSNDATE')[bombs].sum()\n",
    "grouped = grouped/1000\n",
    "\n",
    "source = ColumnDataSource(grouped)\n",
    "\n",
    "p = figure(x_axis_type='datetime')\n",
    "\n",
    "p.line(x='MSNDATE', y='TOTAL_TONS', line_width=2, source=source, legend_label='All Munitions')\n",
    "p.line(x='MSNDATE', y='TONS_FRAG', line_width=2, source=source, color=Spectral3[1], legend_label='Fragmentation')\n",
    "p.line(x='MSNDATE', y='TONS_IC', line_width=2, source=source, color=Spectral3[2], legend_label='Incendiary')\n",
    "\n",
    "p.yaxis.axis_label = 'Kilotons of Munitions Dropped'\n",
    "\n",
    "show(p)"
   ]
  },
  {
   "cell_type": "markdown",
   "metadata": {},
   "source": [
    "### Bombings Over Time - Weeks"
   ]
  },
  {
   "cell_type": "code",
   "execution_count": null,
   "metadata": {},
   "outputs": [],
   "source": [
    "import pandas as pd\n",
    "from bokeh.plotting import figure, output_notebook, show\n",
    "from bokeh.models import ColumnDataSource\n",
    "from bokeh.palettes import Spectral3\n",
    "output_notebook()\n",
    "\n",
    "df = pd.read_csv('data/thor_wwii.csv')\n",
    "\n",
    "#make sure MSNDATE is a datetime format\n",
    "df['MSNDATE'] = pd.to_datetime(df['MSNDATE'], format='%m/%d/%Y')\n",
    "\n",
    "bombs=['TOTAL_TONS', 'TONS_IC', 'TONS_FRAG']\n",
    "\n",
    "grouped = df.groupby(pd.Grouper(key='MSNDATE', freq='W'))[bombs].sum()\n",
    "grouped = grouped/1000\n",
    "\n",
    "source = ColumnDataSource(grouped)\n",
    "\n",
    "p = figure(x_axis_type='datetime')\n",
    "\n",
    "p.line(x='MSNDATE', y='TOTAL_TONS', line_width=2, source=source, legend_label='All Munitions')\n",
    "p.line(x='MSNDATE', y='TONS_FRAG', line_width=2, source=source, color=Spectral3[1], legend_label='Fragmentation')\n",
    "p.line(x='MSNDATE', y='TONS_IC', line_width=2, source=source, color=Spectral3[2], legend_label='Incendiary')\n",
    "\n",
    "p.yaxis.axis_label = 'Kilotons of Munitions Dropped'\n",
    "\n",
    "show(p)"
   ]
  },
  {
   "cell_type": "markdown",
   "metadata": {},
   "source": [
    "### Bombings Over Time - Bi-weekly"
   ]
  },
  {
   "cell_type": "code",
   "execution_count": null,
   "metadata": {},
   "outputs": [],
   "source": [
    "import pandas as pd\n",
    "from bokeh.plotting import figure, output_notebook, show\n",
    "from bokeh.models import ColumnDataSource\n",
    "from bokeh.palettes import Spectral3\n",
    "output_notebook()\n",
    "\n",
    "df = pd.read_csv('data/thor_wwii.csv')\n",
    "\n",
    "#make sure MSNDATE is a datetime format\n",
    "df['MSNDATE'] = pd.to_datetime(df['MSNDATE'], format='%m/%d/%Y')\n",
    "\n",
    "bombs=['TOTAL_TONS', 'TONS_IC', 'TONS_FRAG']\n",
    "\n",
    "grouped = df.groupby(pd.Grouper(key='MSNDATE', freq='2W'))[bombs].sum()\n",
    "grouped = grouped/1000\n",
    "\n",
    "source = ColumnDataSource(grouped)\n",
    "\n",
    "p = figure(x_axis_type='datetime')\n",
    "\n",
    "p.line(x='MSNDATE', y='TOTAL_TONS', line_width=2, source=source, legend_label='All Munitions')\n",
    "p.line(x='MSNDATE', y='TONS_FRAG', line_width=2, source=source, color=Spectral3[1], legend_label='Fragmentation')\n",
    "p.line(x='MSNDATE', y='TONS_IC', line_width=2, source=source, color=Spectral3[2], legend_label='Incendiary')\n",
    "\n",
    "p.yaxis.axis_label = 'Kilotons of Munitions Dropped'\n",
    "\n",
    "show(p)"
   ]
  },
  {
   "cell_type": "markdown",
   "metadata": {},
   "source": [
    "## Turning Data Into Sound\n",
    "\n",
    "This visual representation of the data is nice and all, but it feels dry and emotionless. I want to try to make the data more engaging and accessable by transforming it into something you can hear. \n",
    "\n",
    "For this I'm going to employ an opensource Python package called [Scaper](https://scaper.readthedocs.io/en/latest/index.html). Scaper will allow me to use existing sounds as \"source material\" to generate soundscapes on the fly. I want to try and feed the data I've anylised into Scaper to generate a soundscape representation of said data. \n",
    "\n",
    "First I want to install Scaper and its related dependencies. "
   ]
  },
  {
   "cell_type": "code",
   "execution_count": 1,
   "metadata": {
    "scrolled": true
   },
   "outputs": [
    {
     "name": "stdout",
     "output_type": "stream",
     "text": [
      "Collecting scaper\n",
      "  Downloading scaper-1.6.4-py2.py3-none-any.whl (31 kB)\n",
      "Collecting sox==1.4.0\n",
      "  Downloading sox-1.4.0-py2.py3-none-any.whl (39 kB)\n",
      "Collecting pyloudnorm\n",
      "  Downloading pyloudnorm-0.1.0-py3-none-any.whl (9.3 kB)\n",
      "Collecting soundfile\n",
      "  Downloading SoundFile-0.10.3.post1-py2.py3.cp26.cp27.cp32.cp33.cp34.cp35.cp36.pp27.pp32.pp33-none-win_amd64.whl (689 kB)\n",
      "Requirement already satisfied: numpy>=1.13.3 in c:\\users\\kdgg\\anaconda3\\lib\\site-packages (from scaper) (1.18.1)\n",
      "Collecting jams>=0.3.2\n",
      "  Downloading jams-0.3.4.tar.gz (51 kB)\n",
      "Requirement already satisfied: scipy>=1.0.1 in c:\\users\\kdgg\\anaconda3\\lib\\site-packages (from pyloudnorm->scaper) (1.4.1)\n",
      "Requirement already satisfied: future>=0.16.0 in c:\\users\\kdgg\\anaconda3\\lib\\site-packages (from pyloudnorm->scaper) (0.18.2)\n",
      "Requirement already satisfied: cffi>=1.0 in c:\\users\\kdgg\\anaconda3\\lib\\site-packages (from soundfile->scaper) (1.14.0)\n",
      "Requirement already satisfied: pandas in c:\\users\\kdgg\\anaconda3\\lib\\site-packages (from jams>=0.3.2->scaper) (1.0.1)\n",
      "Requirement already satisfied: sortedcontainers>=2.0.0 in c:\\users\\kdgg\\anaconda3\\lib\\site-packages (from jams>=0.3.2->scaper) (2.1.0)\n",
      "Requirement already satisfied: jsonschema>=3.0.0 in c:\\users\\kdgg\\anaconda3\\lib\\site-packages (from jams>=0.3.2->scaper) (3.2.0)\n",
      "Requirement already satisfied: six in c:\\users\\kdgg\\anaconda3\\lib\\site-packages (from jams>=0.3.2->scaper) (1.14.0)\n",
      "Requirement already satisfied: decorator in c:\\users\\kdgg\\anaconda3\\lib\\site-packages (from jams>=0.3.2->scaper) (4.4.1)\n",
      "Collecting mir_eval>=0.5\n",
      "  Downloading mir_eval-0.6.tar.gz (87 kB)\n",
      "Requirement already satisfied: pycparser in c:\\users\\kdgg\\anaconda3\\lib\\site-packages (from cffi>=1.0->soundfile->scaper) (2.19)\n",
      "Requirement already satisfied: python-dateutil>=2.6.1 in c:\\users\\kdgg\\anaconda3\\lib\\site-packages (from pandas->jams>=0.3.2->scaper) (2.8.1)\n",
      "Requirement already satisfied: pytz>=2017.2 in c:\\users\\kdgg\\anaconda3\\lib\\site-packages (from pandas->jams>=0.3.2->scaper) (2019.3)\n",
      "Requirement already satisfied: setuptools in c:\\users\\kdgg\\anaconda3\\lib\\site-packages (from jsonschema>=3.0.0->jams>=0.3.2->scaper) (45.2.0.post20200210)\n",
      "Requirement already satisfied: pyrsistent>=0.14.0 in c:\\users\\kdgg\\anaconda3\\lib\\site-packages (from jsonschema>=3.0.0->jams>=0.3.2->scaper) (0.15.7)\n",
      "Requirement already satisfied: importlib-metadata; python_version < \"3.8\" in c:\\users\\kdgg\\anaconda3\\lib\\site-packages (from jsonschema>=3.0.0->jams>=0.3.2->scaper) (1.5.0)\n",
      "Requirement already satisfied: attrs>=17.4.0 in c:\\users\\kdgg\\anaconda3\\lib\\site-packages (from jsonschema>=3.0.0->jams>=0.3.2->scaper) (19.3.0)\n",
      "Requirement already satisfied: zipp>=0.5 in c:\\users\\kdgg\\anaconda3\\lib\\site-packages (from importlib-metadata; python_version < \"3.8\"->jsonschema>=3.0.0->jams>=0.3.2->scaper) (2.2.0)\n",
      "Building wheels for collected packages: jams, mir-eval\n",
      "  Building wheel for jams (setup.py): started\n",
      "  Building wheel for jams (setup.py): finished with status 'done'\n",
      "  Created wheel for jams: filename=jams-0.3.4-py3-none-any.whl size=64928 sha256=289f29435598f7e0258e22e93cedc6f25bf9bb6991b1d2bdb2a0a0fbbaff64be\n",
      "  Stored in directory: c:\\users\\kdgg\\appdata\\local\\pip\\cache\\wheels\\c9\\aa\\16\\ce72bc4caa58dfab819e3f46b3542f2bf90a83009f4ea07a48\n",
      "  Building wheel for mir-eval (setup.py): started\n",
      "  Building wheel for mir-eval (setup.py): finished with status 'done'\n",
      "  Created wheel for mir-eval: filename=mir_eval-0.6-py3-none-any.whl size=96520 sha256=3813b4c8170bf90718b32aa7bd4352ab6fe9787d67cad917690f49754618b59d\n",
      "  Stored in directory: c:\\users\\kdgg\\appdata\\local\\pip\\cache\\wheels\\08\\28\\2d\\006dbad29550bac8daf049ff34fa882655a7d3e77f3b67595e\n",
      "Successfully built jams mir-eval\n",
      "Installing collected packages: sox, pyloudnorm, soundfile, mir-eval, jams, scaper\n",
      "Successfully installed jams-0.3.4 mir-eval-0.6 pyloudnorm-0.1.0 scaper-1.6.4 soundfile-0.10.3.post1 sox-1.4.0\n"
     ]
    }
   ],
   "source": [
    "!pip install scaper"
   ]
  },
  {
   "cell_type": "markdown",
   "metadata": {},
   "source": [
    "\n",
    "Now that Scaper is installed I need to write the code to create my Scaper object.\n"
   ]
  },
  {
   "cell_type": "code",
   "execution_count": null,
   "metadata": {},
   "outputs": [],
   "source": []
  }
 ],
 "metadata": {
  "kernelspec": {
   "display_name": "Python 3",
   "language": "python",
   "name": "python3"
  },
  "language_info": {
   "codemirror_mode": {
    "name": "ipython",
    "version": 3
   },
   "file_extension": ".py",
   "mimetype": "text/x-python",
   "name": "python",
   "nbconvert_exporter": "python",
   "pygments_lexer": "ipython3",
   "version": "3.7.6"
  }
 },
 "nbformat": 4,
 "nbformat_minor": 4
}

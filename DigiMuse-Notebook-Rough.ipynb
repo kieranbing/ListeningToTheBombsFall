{
 "cells": [
  {
   "cell_type": "markdown",
   "metadata": {},
   "source": [
    "# Data Visulization With Soundscapes\n",
    "## Introduction \n",
    "\n",
    "## Data \n",
    "For this project I will be using the Theater History of Operations Reports (THOR) dataset of aeriel bombing operations during World War I, World War II, the Korean War, and the Vietnam War undertaken by the US and other Allied nations. The dataset is available on data.world and can be accessed [here](https://data.world/datamil/world-war-ii-thor-data).\n",
    "\n",
    "I will be using and abridged version of the dataset which I recived from [this tutorial](https://programminghistorian.org/en/lessons/visualizing-with-bokeh#the-wwii-thor-dataset) courtesy of The Programming Historian. Here is a link to the CSV file of the abridged dataset: [thor_wwii.csv](https://raw.githubusercontent.com/programminghistorian/ph-submissions/gh-pages/assets/visualizing-with-bokeh/thor_wwii.csv)\n",
    "\n",
    "---------------------------------------------------------------------------------------------------------------------------\n",
    "\n",
    "## Visualizing The Data\n",
    "\n",
    "First I need to visualize the dataset so that I can get a better idea of what it looks like. (duh) \n",
    "\n",
    "I visualised it first by bombs dropped every day, as idealy I would like my soundscape to follow this scale, with each day representing a second of time.\n",
    "\n",
    "That might make for a very long listening time, so I also visualized the data as weekly and biweekly to see how those distributions looked. \n",
    "\n",
    "### Bombings Over Time - days"
   ]
  },
  {
   "cell_type": "code",
   "execution_count": null,
   "metadata": {
    "scrolled": true
   },
   "outputs": [],
   "source": [
    "import pandas as pd\n",
    "from bokeh.plotting import figure, output_notebook, show\n",
    "from bokeh.models import ColumnDataSource\n",
    "from bokeh.palettes import Spectral3\n",
    "output_notebook()\n",
    "\n",
    "df = pd.read_csv('data/thor_wwii.csv')\n",
    "\n",
    "#make sure MSNDATE is a datetime format\n",
    "df['MSNDATE'] = pd.to_datetime(df['MSNDATE'], format='%m/%d/%Y')\n",
    "\n",
    "bombs=['TOTAL_TONS', 'TONS_IC', 'TONS_FRAG']\n",
    "\n",
    "grouped = df.groupby('MSNDATE')[bombs].sum()\n",
    "grouped = grouped/1000\n",
    "\n",
    "source = ColumnDataSource(grouped)\n",
    "\n",
    "p = figure(x_axis_type='datetime')\n",
    "\n",
    "p.line(x='MSNDATE', y='TOTAL_TONS', line_width=2, source=source, legend_label='All Munitions')\n",
    "p.line(x='MSNDATE', y='TONS_FRAG', line_width=2, source=source, color=Spectral3[1], legend_label='Fragmentation')\n",
    "p.line(x='MSNDATE', y='TONS_IC', line_width=2, source=source, color=Spectral3[2], legend_label='Incendiary')\n",
    "\n",
    "p.yaxis.axis_label = 'Kilotons of Munitions Dropped'\n",
    "\n",
    "show(p)"
   ]
  },
  {
   "cell_type": "markdown",
   "metadata": {},
   "source": [
    "### Bombings Over Time - Weeks"
   ]
  },
  {
   "cell_type": "code",
   "execution_count": null,
   "metadata": {},
   "outputs": [],
   "source": [
    "import pandas as pd\n",
    "from bokeh.plotting import figure, output_notebook, show\n",
    "from bokeh.models import ColumnDataSource\n",
    "from bokeh.palettes import Spectral3\n",
    "output_notebook()\n",
    "\n",
    "df = pd.read_csv('data/thor_wwii.csv')\n",
    "\n",
    "#make sure MSNDATE is a datetime format\n",
    "df['MSNDATE'] = pd.to_datetime(df['MSNDATE'], format='%m/%d/%Y')\n",
    "\n",
    "bombs=['TOTAL_TONS', 'TONS_IC', 'TONS_FRAG']\n",
    "\n",
    "grouped = df.groupby(pd.Grouper(key='MSNDATE', freq='W'))[bombs].sum()\n",
    "grouped = grouped/1000\n",
    "\n",
    "source = ColumnDataSource(grouped)\n",
    "\n",
    "p = figure(x_axis_type='datetime')\n",
    "\n",
    "p.line(x='MSNDATE', y='TOTAL_TONS', line_width=2, source=source, legend_label='All Munitions')\n",
    "p.line(x='MSNDATE', y='TONS_FRAG', line_width=2, source=source, color=Spectral3[1], legend_label='Fragmentation')\n",
    "p.line(x='MSNDATE', y='TONS_IC', line_width=2, source=source, color=Spectral3[2], legend_label='Incendiary')\n",
    "\n",
    "p.yaxis.axis_label = 'Kilotons of Munitions Dropped'\n",
    "\n",
    "show(p)"
   ]
  },
  {
   "cell_type": "markdown",
   "metadata": {},
   "source": [
    "### Bombings Over Time - Bi-weekly"
   ]
  },
  {
   "cell_type": "code",
   "execution_count": null,
   "metadata": {},
   "outputs": [],
   "source": [
    "import pandas as pd\n",
    "from bokeh.plotting import figure, output_notebook, show\n",
    "from bokeh.models import ColumnDataSource\n",
    "from bokeh.palettes import Spectral3\n",
    "output_notebook()\n",
    "\n",
    "df = pd.read_csv('data/thor_wwii.csv')\n",
    "\n",
    "#make sure MSNDATE is a datetime format\n",
    "df['MSNDATE'] = pd.to_datetime(df['MSNDATE'], format='%m/%d/%Y')\n",
    "\n",
    "bombs=['TOTAL_TONS', 'TONS_IC', 'TONS_FRAG']\n",
    "\n",
    "grouped = df.groupby(pd.Grouper(key='MSNDATE', freq='2W'))[bombs].sum()\n",
    "grouped = grouped/1000\n",
    "\n",
    "source = ColumnDataSource(grouped)\n",
    "\n",
    "p = figure(x_axis_type='datetime')\n",
    "\n",
    "p.line(x='MSNDATE', y='TOTAL_TONS', line_width=2, source=source, legend_label='All Munitions')\n",
    "p.line(x='MSNDATE', y='TONS_FRAG', line_width=2, source=source, color=Spectral3[1], legend_label='Fragmentation')\n",
    "p.line(x='MSNDATE', y='TONS_IC', line_width=2, source=source, color=Spectral3[2], legend_label='Incendiary')\n",
    "\n",
    "p.yaxis.axis_label = 'Kilotons of Munitions Dropped'\n",
    "\n",
    "show(p)"
   ]
  },
  {
   "cell_type": "markdown",
   "metadata": {},
   "source": [
    "---------------------\n",
    "## Creating a Soundscape\n",
    "\n",
    "This visual representation of the data is nice and all, but it feels dry and emotionless. I want to try to make the data more engaging and accessable by transforming it into something you can hear. \n",
    "\n",
    "For this I'm going to employ an opensource Python package called [Scaper](https://scaper.readthedocs.io/en/latest/index.html). Scaper will allow me to use existing sounds as \"source material\" to generate soundscapes on the fly. I want to try and feed the data I've anylised into Scaper to generate a soundscape representation of said data. \n",
    "\n",
    "First I want to install Scaper and its related dependencies. "
   ]
  },
  {
   "cell_type": "code",
   "execution_count": null,
   "metadata": {
    "scrolled": true
   },
   "outputs": [],
   "source": [
    "#!pip install scaper\n",
    "#!pip install Sox\n",
    "#!pip install FFmpeg\n",
    "\n",
    "#import sys\n",
    "#!{sys.executable} -m pip install FFmpeg\n",
    "#!{sys.executable} -m pip install SoX\n",
    "#!{sys.executable} -m pip install scaper\n",
    "\n",
    "import sys\n",
    "!conda install --yes --prefix {sys.prefix} FFmpeg\n",
    "!{sys.executable} -m pip install scaper\n",
    "!{sys.executable} -m pip install playsound\n"
   ]
  },
  {
   "cell_type": "markdown",
   "metadata": {},
   "source": [
    "\n",
    "Now that Scaper is installed I need to write a function to create my Scaper object.\n"
   ]
  },
  {
   "cell_type": "code",
   "execution_count": null,
   "metadata": {},
   "outputs": [],
   "source": [
    "import scaper\n",
    "\n",
    "def createScaper():\n",
    "    path_to_audio = 'audio'\n",
    "    soundscape_duration = 10.0\n",
    "    seed = 123\n",
    "    foreground_folder = 'audio/foreground'\n",
    "    background_folder = 'audio/background'\n",
    "    sc = scaper.Scaper(soundscape_duration, foreground_folder, background_folder)\n",
    "    sc.ref_db = -20\n",
    "    if sc: \n",
    "        print(\"Scaper created successfully\")\n",
    "        return sc\n",
    "    else:\n",
    "        print(\"Error initializing Scaper object\")\n",
    "    \n",
    "sc = createScaper()"
   ]
  },
  {
   "cell_type": "markdown",
   "metadata": {},
   "source": [
    "Next I need to be able to add background and foreground events to my soundscape. \n",
    "\n",
    "I'll start with the background since in this basic version of the soundscape it won't be dynamic. I've chosen an air raid siren that I can have repeat in the background. "
   ]
  },
  {
   "cell_type": "code",
   "execution_count": null,
   "metadata": {},
   "outputs": [],
   "source": [
    "sc.add_background(label=('const', 'siren'),\n",
    "                  source_file=('const', 'audio/background/siren/warningSiren01.wav'),\n",
    "                  source_time=('const', 0))"
   ]
  },
  {
   "cell_type": "markdown",
   "metadata": {},
   "source": [
    "Now to add a foreground event. I'm going to add a variable volume on this event so that when Scaper generates the soundscape it contains explosions of random different volumes."
   ]
  },
  {
   "cell_type": "code",
   "execution_count": null,
   "metadata": {},
   "outputs": [],
   "source": [
    "sc.add_event(label=('const', 'bomb'),\n",
    "             source_file=('const', 'audio/foreground/bomb/blast01.wav'),\n",
    "             source_time=('const', 0),\n",
    "             event_time=('uniform', 0, 9),\n",
    "             event_duration=('const', 2.2),\n",
    "             snr=('normal', 10, 3),\n",
    "             pitch_shift=(None),\n",
    "             time_stretch=(None))"
   ]
  },
  {
   "cell_type": "markdown",
   "metadata": {},
   "source": [
    "Running the above code multyple times with generate a new bomb sound each time. I recommend running it 3-5 times.\n",
    "\n",
    "Now all that I need to do is generate my soundscape with the Scaper.generate() function. This will create my soundscape using the random elements I specified. It will also generate a JAMS (JSON Annotated Music Specification) and text file of the soundscape.  \n",
    "\n",
    "(Note: I used a static seed here, so each call to generate() will result in the same soundscape. Using a random seed instead would create a unique soundscape each time generate() is called.) "
   ]
  },
  {
   "cell_type": "code",
   "execution_count": null,
   "metadata": {},
   "outputs": [],
   "source": [
    "audiofile = 'soundscape.wav'\n",
    "jamsfile = 'soundscape.jams'\n",
    "txtfile = 'soundscape.txt'\n",
    "sc.generate(audiofile, jamsfile,\n",
    "            allow_repeated_label=True,\n",
    "            allow_repeated_source=True,\n",
    "            reverb=0.1,\n",
    "            disable_sox_warnings=True,\n",
    "            no_audio=False,\n",
    "            txt_path=txtfile,\n",
    "            disable_instantiation_warnings=True)"
   ]
  },
  {
   "cell_type": "markdown",
   "metadata": {},
   "source": [
    "If everything worked like it should a text file containing a textual representation of the newly generated soundscape should have outputed. \n",
    "\n",
    "YAY! The first soundscape is complete! Find it in the project folder and give it a listen, or run the code snippit below to listen to it.\n",
    "\n",
    "## WARNING: VERY LOUD, PLAY THE RECORDING WITH CAUTION"
   ]
  },
  {
   "cell_type": "code",
   "execution_count": null,
   "metadata": {},
   "outputs": [],
   "source": [
    "from playsound import playsound\n",
    "\n",
    "while 1 == 1:\n",
    "    userInput = input(\"Do you want to listen to the soundscape? WARNING: it can be loud. Enter 'y' for yes or 'n' for no: \")\n",
    "    if userInput == 'y':\n",
    "        playsound(audiofile)\n",
    "        break\n",
    "    elif userInput == 'n':\n",
    "        break\n",
    "    else:\n",
    "        continue\n",
    "    "
   ]
  },
  {
   "cell_type": "markdown",
   "metadata": {},
   "source": [
    "---------------------------------"
   ]
  },
  {
   "cell_type": "code",
   "execution_count": null,
   "metadata": {},
   "outputs": [],
   "source": []
  }
 ],
 "metadata": {
  "kernelspec": {
   "display_name": "Python 3",
   "language": "python",
   "name": "python3"
  },
  "language_info": {
   "codemirror_mode": {
    "name": "ipython",
    "version": 3
   },
   "file_extension": ".py",
   "mimetype": "text/x-python",
   "name": "python",
   "nbconvert_exporter": "python",
   "pygments_lexer": "ipython3",
   "version": "3.7.6"
  }
 },
 "nbformat": 4,
 "nbformat_minor": 4
}
